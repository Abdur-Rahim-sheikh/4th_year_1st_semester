{
 "cells": [
  {
   "cell_type": "markdown",
   "id": "14113bb2",
   "metadata": {},
   "source": [
    "# Middle square methods"
   ]
  },
  {
   "cell_type": "code",
   "execution_count": 1,
   "id": "1efc3aa3",
   "metadata": {},
   "outputs": [
    {
     "name": "stdout",
     "output_type": "stream",
     "text": [
      "211\n"
     ]
    }
   ],
   "source": [
    "seed = 675248\n",
    "randoms = []\n",
    "val = seed\n",
    "prev = val\n",
    "while val:\n",
    "    randoms.append(val)\n",
    "    prev = val\n",
    "    x = val**2\n",
    "    tem = f'{x:012d}'\n",
    "#     print(tem,tem[1:-1])\n",
    "    val = int(tem[3:-3])\n",
    "#     print(val,x)\n",
    "    if val==prev:\n",
    "        break\n",
    "    \n",
    "randoms\n",
    "print(len(randoms))"
   ]
  },
  {
   "cell_type": "markdown",
   "id": "4296f2f9",
   "metadata": {},
   "source": [
    "# LCM"
   ]
  },
  {
   "cell_type": "code",
   "execution_count": 14,
   "id": "5a329076",
   "metadata": {},
   "outputs": [],
   "source": [
    "a = 5\n",
    "c = 2\n",
    "m = 123"
   ]
  },
  {
   "cell_type": "code",
   "execution_count": 17,
   "id": "da407b3f",
   "metadata": {},
   "outputs": [
    {
     "name": "stdout",
     "output_type": "stream",
     "text": [
      "[2, 12, 62, 66, 86, 63, 71, 111, 65, 81, 38, 69, 101, 15, 77, 18, 92, 93, 98, 0, 2]\n"
     ]
    }
   ],
   "source": [
    "randomNums = [c]\n",
    "while True:\n",
    "    tem = ((randomNums[-1] * a) + c) % m\n",
    "    if tem not in randomNums:\n",
    "        randomNums.append(tem)\n",
    "    else:\n",
    "        randomNums.append(tem)\n",
    "        break\n",
    "    \n",
    "print(randomNums)"
   ]
  },
  {
   "cell_type": "code",
   "execution_count": null,
   "id": "a1756b21",
   "metadata": {},
   "outputs": [],
   "source": []
  }
 ],
 "metadata": {
  "kernelspec": {
   "display_name": "Python 3.9.12 ('base')",
   "language": "python",
   "name": "python3"
  },
  "language_info": {
   "codemirror_mode": {
    "name": "ipython",
    "version": 3
   },
   "file_extension": ".py",
   "mimetype": "text/x-python",
   "name": "python",
   "nbconvert_exporter": "python",
   "pygments_lexer": "ipython3",
   "version": "3.9.12"
  },
  "vscode": {
   "interpreter": {
    "hash": "a22799ee5e5f0ceca5814875a3f5a99da28e4989824bab10b2685b91b7f80494"
   }
  }
 },
 "nbformat": 4,
 "nbformat_minor": 5
}
