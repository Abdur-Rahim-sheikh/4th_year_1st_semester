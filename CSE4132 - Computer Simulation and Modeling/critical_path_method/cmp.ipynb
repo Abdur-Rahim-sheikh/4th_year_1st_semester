{
 "cells": [
  {
   "cell_type": "code",
   "execution_count": 1,
   "metadata": {},
   "outputs": [],
   "source": [
    "class Capsule(object):\n",
    "    def __init__(self,data,pred = [],es=0,ef=0,ls=0,lf=0):\n",
    "        self.activity = data[0]\n",
    "        self.name = data[1]\n",
    "        self.duration = data[2]\n",
    "        self.es = es\n",
    "        self.ef = ef\n",
    "        self.ls = ls\n",
    "        self.lf = lf\n",
    "        self.predecessor = pred\n",
    "        self.successor = []\n",
    "\n",
    "    def __str__(self):\n",
    "        return f\"{self.es} | {self.name} | {self.ef}\\n\" +\\\n",
    "        f\"{self.ls} | {self.duration} | {self.lf}\\n\"+\\\n",
    "        f\"{self.predecessor}\\n{self.successor}\\n\"\n",
    "        \n",
    "    def suc_left(self): return len(self.successor)\n",
    "    def pred_left(self): return len(self.predecessor)\n"
   ]
  },
  {
   "cell_type": "code",
   "execution_count": 2,
   "metadata": {},
   "outputs": [],
   "source": [
    "# def Capsule(activity,duration):\n",
    "#     box = {\n",
    "#         'activity':activity,\n",
    "#         'duration':duration,\n",
    "#         'es':0,\n",
    "#         'ef':0,\n",
    "#         'ls':0,'lf':0\n",
    "#     }\n",
    "#     return box\n"
   ]
  },
  {
   "cell_type": "code",
   "execution_count": 3,
   "metadata": {},
   "outputs": [],
   "source": [
    "# -1 value will be start node and -2 to end node as dummy node to bind them\n",
    "   \n",
    "TAIL = -1\n",
    "HEAD = -2"
   ]
  },
  {
   "cell_type": "code",
   "execution_count": 4,
   "metadata": {},
   "outputs": [],
   "source": [
    "def setHeadTail(graph):\n",
    "    graph[TAIL] = Capsule([TAIL,'?',0])\n",
    "    graph[HEAD] = Capsule([HEAD,'?',0])\n",
    "    # print(TAIL,graph[TAIL],\"->>\")\n",
    "    for id,element in graph.items():\n",
    "        if id==HEAD or id==TAIL:\n",
    "            continue\n",
    "        if not element.pred_left():\n",
    "            element.predecessor.append(TAIL)\n",
    "            graph[TAIL].successor.append(id)\n",
    "        elif not element.suc_left():\n",
    "            element.successor.append(HEAD)\n",
    "            graph[HEAD].predecessor.append(id)\n",
    "    \n",
    "    "
   ]
  },
  {
   "cell_type": "code",
   "execution_count": 5,
   "metadata": {},
   "outputs": [],
   "source": [
    "def forward_pass(graph):\n",
    "    queue = [TAIL]\n",
    "    maxValue = 0\n",
    "    while queue:\n",
    "        val = queue.pop()\n",
    "        for to in graph[val].successor:\n",
    "            graph[to].es = max(graph[to].es,graph[val].es+graph[val].duration)\n",
    "            graph[to].ef = graph[to].es + graph[to].duration\n",
    "            print(val,to,graph[to].predecessor)\n",
    "            graph[to].predecessor.remove(val)\n",
    "            if graph[to].pred_left()==0:\n",
    "                queue.append(to)\n",
    "                "
   ]
  },
  {
   "cell_type": "code",
   "execution_count": 6,
   "metadata": {},
   "outputs": [],
   "source": [
    "def backward_pass(graph):\n",
    "    queue = [HEAD]\n",
    "    while queue:\n",
    "        val = queue.pop()\n",
    "        for to in graph[val].predecessor:\n",
    "            graph[to].lf = min(graph[to].lf,graph[val].ls)\n",
    "            graph[to].ls = graph[to].lf - graph[to].duration\n",
    "            print(val,to,graph[to].predecessor)\n",
    "            graph[to].successor.remove(val)\n",
    "            if not graph[to].suc_left():\n",
    "                queue.append(to)"
   ]
  },
  {
   "cell_type": "code",
   "execution_count": 7,
   "metadata": {},
   "outputs": [],
   "source": [
    "def getCriticalPath(graph):\n",
    "    path = []\n",
    "    for id,element in graph:\n",
    "        if(id==HEAD or id==TAIL): continue\n",
    "        if(element.es == element.ls): path.append(id)\n",
    "\n",
    "    return path"
   ]
  },
  {
   "cell_type": "code",
   "execution_count": 8,
   "metadata": {},
   "outputs": [],
   "source": [
    "def printGraph(graph):\n",
    "    for id,element in graph.items():\n",
    "        print(element)"
   ]
  },
  {
   "cell_type": "code",
   "execution_count": 9,
   "metadata": {},
   "outputs": [],
   "source": [
    "# table = []\n",
    "# starter = []\n",
    "graph = dict()\n",
    "with open('input.txt','r') as f:\n",
    "    data = f.read().splitlines()\n",
    "\n",
    "for row in data:\n",
    "    row = row.split(',')\n",
    "    depends,row = [int(val) for val in row[-1].split(';')],row[:-1]\n",
    "    modified = [int(row[0]),row[1],int(row[2])]\n",
    "    \n",
    "    # print(modified,depends)\n",
    "    if depends==[-1]:\n",
    "        graph[modified[0]] = Capsule(modified)\n",
    "    else:\n",
    "        graph[modified[0]] = Capsule(modified,depends)\n",
    "\n",
    "# now load the successor\n",
    "for id,element in graph.items():\n",
    "    for pred in element.predecessor:\n",
    "        graph[pred].successor.append(id)\n"
   ]
  },
  {
   "cell_type": "code",
   "execution_count": 10,
   "metadata": {},
   "outputs": [
    {
     "name": "stdout",
     "output_type": "stream",
     "text": [
      "0 | A | 0\n",
      "0 | 7 | 0\n",
      "[-1, 40]\n",
      "[20, 25, 30]\n",
      "\n",
      "0 | B | 0\n",
      "0 | 10 | 0\n",
      "[10]\n",
      "[40]\n",
      "\n",
      "0 | C | 0\n",
      "0 | 3 | 0\n",
      "[10]\n",
      "[40]\n",
      "\n",
      "0 | D | 0\n",
      "0 | 5 | 0\n",
      "[10]\n",
      "[40]\n",
      "\n",
      "0 | E | 0\n",
      "0 | 5 | 0\n",
      "[20, 25, 30]\n",
      "[-2]\n",
      "\n",
      "0 | ? | 0\n",
      "0 | 0 | 0\n",
      "[-1, 40]\n",
      "[10]\n",
      "\n",
      "0 | ? | 0\n",
      "0 | 0 | 0\n",
      "[-1, 40]\n",
      "[]\n",
      "\n",
      "-1 10 [-1, 40]\n",
      "0 | A | 7\n",
      "0 | 7 | 0\n",
      "[40]\n",
      "[20, 25, 30]\n",
      "\n",
      "0 | B | 0\n",
      "0 | 10 | 0\n",
      "[10]\n",
      "[40]\n",
      "\n",
      "0 | C | 0\n",
      "0 | 3 | 0\n",
      "[10]\n",
      "[40]\n",
      "\n",
      "0 | D | 0\n",
      "0 | 5 | 0\n",
      "[10]\n",
      "[40]\n",
      "\n",
      "0 | E | 0\n",
      "0 | 5 | 0\n",
      "[20, 25, 30]\n",
      "[-2]\n",
      "\n",
      "0 | ? | 0\n",
      "0 | 0 | 0\n",
      "[40]\n",
      "[10]\n",
      "\n",
      "0 | ? | 0\n",
      "0 | 0 | 0\n",
      "[40]\n",
      "[]\n",
      "\n",
      "-2 40 [20, 25, 30]\n",
      "40 20 [10]\n",
      "40 25 [10]\n",
      "40 30 [10]\n",
      "30 10 [40]\n",
      "25 10 [40]\n",
      "20 10 [40]\n",
      "10 40 [20, 25, 30]\n"
     ]
    },
    {
     "ename": "ValueError",
     "evalue": "list.remove(x): x not in list",
     "output_type": "error",
     "traceback": [
      "\u001b[0;31m---------------------------------------------------------------------------\u001b[0m",
      "\u001b[0;31mValueError\u001b[0m                                Traceback (most recent call last)",
      "\u001b[1;32m/home/abir/Desktop/4th year 1st semester/Computer simulation/labs/critical_path_method/cmp.ipynb Cell 10\u001b[0m in \u001b[0;36m<cell line: 6>\u001b[0;34m()\u001b[0m\n\u001b[1;32m      <a href='vscode-notebook-cell:/home/abir/Desktop/4th%20year%201st%20semester/Computer%20simulation/labs/critical_path_method/cmp.ipynb#W6sZmlsZQ%3D%3D?line=3'>4</a>\u001b[0m forward_pass(graph)\n\u001b[1;32m      <a href='vscode-notebook-cell:/home/abir/Desktop/4th%20year%201st%20semester/Computer%20simulation/labs/critical_path_method/cmp.ipynb#W6sZmlsZQ%3D%3D?line=4'>5</a>\u001b[0m printGraph(graph)\n\u001b[0;32m----> <a href='vscode-notebook-cell:/home/abir/Desktop/4th%20year%201st%20semester/Computer%20simulation/labs/critical_path_method/cmp.ipynb#W6sZmlsZQ%3D%3D?line=5'>6</a>\u001b[0m backward_pass(graph)\n\u001b[1;32m      <a href='vscode-notebook-cell:/home/abir/Desktop/4th%20year%201st%20semester/Computer%20simulation/labs/critical_path_method/cmp.ipynb#W6sZmlsZQ%3D%3D?line=6'>7</a>\u001b[0m getCriticalPath(graph)\n",
      "\u001b[1;32m/home/abir/Desktop/4th year 1st semester/Computer simulation/labs/critical_path_method/cmp.ipynb Cell 10\u001b[0m in \u001b[0;36mbackward_pass\u001b[0;34m(graph)\u001b[0m\n\u001b[1;32m      <a href='vscode-notebook-cell:/home/abir/Desktop/4th%20year%201st%20semester/Computer%20simulation/labs/critical_path_method/cmp.ipynb#W6sZmlsZQ%3D%3D?line=6'>7</a>\u001b[0m graph[to]\u001b[39m.\u001b[39mls \u001b[39m=\u001b[39m graph[to]\u001b[39m.\u001b[39mlf \u001b[39m-\u001b[39m graph[to]\u001b[39m.\u001b[39mduration\n\u001b[1;32m      <a href='vscode-notebook-cell:/home/abir/Desktop/4th%20year%201st%20semester/Computer%20simulation/labs/critical_path_method/cmp.ipynb#W6sZmlsZQ%3D%3D?line=7'>8</a>\u001b[0m \u001b[39mprint\u001b[39m(val,to,graph[to]\u001b[39m.\u001b[39mpredecessor)\n\u001b[0;32m----> <a href='vscode-notebook-cell:/home/abir/Desktop/4th%20year%201st%20semester/Computer%20simulation/labs/critical_path_method/cmp.ipynb#W6sZmlsZQ%3D%3D?line=8'>9</a>\u001b[0m graph[to]\u001b[39m.\u001b[39;49msuccessor\u001b[39m.\u001b[39;49mremove(val)\n\u001b[1;32m     <a href='vscode-notebook-cell:/home/abir/Desktop/4th%20year%201st%20semester/Computer%20simulation/labs/critical_path_method/cmp.ipynb#W6sZmlsZQ%3D%3D?line=9'>10</a>\u001b[0m \u001b[39mif\u001b[39;00m \u001b[39mnot\u001b[39;00m graph[to]\u001b[39m.\u001b[39msuc_left():\n\u001b[1;32m     <a href='vscode-notebook-cell:/home/abir/Desktop/4th%20year%201st%20semester/Computer%20simulation/labs/critical_path_method/cmp.ipynb#W6sZmlsZQ%3D%3D?line=10'>11</a>\u001b[0m     queue\u001b[39m.\u001b[39mappend(to)\n",
      "\u001b[0;31mValueError\u001b[0m: list.remove(x): x not in list"
     ]
    },
    {
     "ename": "",
     "evalue": "",
     "output_type": "error",
     "traceback": [
      "\u001b[1;31mThe Kernel crashed while executing code in the the current cell or a previous cell. Please review the code in the cell(s) to identify a possible cause of the failure. Click <a href='https://aka.ms/vscodeJupyterKernelCrash'>here</a> for more info. View Jupyter <a href='command:jupyter.viewOutput'>log</a> for further details."
     ]
    }
   ],
   "source": [
    "setHeadTail(graph)\n",
    "\n",
    "# printGraph(graph)\n",
    "forward_pass(graph)\n",
    "# printGraph(graph)\n",
    "backward_pass(graph)\n",
    "path = getCriticalPath(graph)\n",
    "print(path)"
   ]
  },
  {
   "cell_type": "code",
   "execution_count": null,
   "metadata": {},
   "outputs": [],
   "source": []
  }
 ],
 "metadata": {
  "kernelspec": {
   "display_name": "Python 3 (ipykernel)",
   "language": "python",
   "name": "python3"
  },
  "language_info": {
   "codemirror_mode": {
    "name": "ipython",
    "version": 3
   },
   "file_extension": ".py",
   "mimetype": "text/x-python",
   "name": "python",
   "nbconvert_exporter": "python",
   "pygments_lexer": "ipython3",
   "version": "3.9.12"
  },
  "orig_nbformat": 4,
  "vscode": {
   "interpreter": {
    "hash": "a22799ee5e5f0ceca5814875a3f5a99da28e4989824bab10b2685b91b7f80494"
   }
  }
 },
 "nbformat": 4,
 "nbformat_minor": 2
}
