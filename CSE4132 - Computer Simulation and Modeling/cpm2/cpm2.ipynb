{
 "cells": [
  {
   "cell_type": "code",
   "execution_count": 50,
   "metadata": {},
   "outputs": [],
   "source": [
    "class Node:\n",
    "    def __init__(self,id,name,duration,pred):\n",
    "        self.id = id\n",
    "        self.name = name\n",
    "        self.duration = duration\n",
    "        self.es,self.ef,self.ls =0,0,0\n",
    "        self.lf = 10000001\n",
    "        self.pred = pred\n",
    "        self.suc = []\n",
    "\n",
    "    def __str__(self):\n",
    "        return f\"{self.es} | {self.name} | {self.ef}\\n\" +\\\n",
    "        f\"{self.ls} | {self.duration} | {self.lf}\\n\"+\\\n",
    "        f\"{self.pred}\\n{self.suc}\\n\""
   ]
  },
  {
   "cell_type": "code",
   "execution_count": 51,
   "metadata": {},
   "outputs": [],
   "source": [
    "# input extraction\n",
    "with open('input.txt','r') as f:\n",
    "    lines = f.read().splitlines()\n",
    "network = dict()\n",
    "for data in lines:\n",
    "    data = data.split(',')\n",
    "    # print(data)\n",
    "    if len(data)==3: pred = []\n",
    "    else:\n",
    "        pred = [int(x) for x in data[-1].split(';')]\n",
    "        data = data[:-1]\n",
    "    network[int(data[0])] = Node(int(data[0]),data[1],int(data[2]),pred)  \n"
   ]
  },
  {
   "cell_type": "code",
   "execution_count": 52,
   "metadata": {},
   "outputs": [],
   "source": [
    "def printNetwork(network):\n",
    "    for id,data in network.items():\n",
    "        print(id,data,sep='\\n')"
   ]
  },
  {
   "cell_type": "code",
   "execution_count": 53,
   "metadata": {},
   "outputs": [
    {
     "name": "stdout",
     "output_type": "stream",
     "text": [
      "10\n",
      "0 | A | 0\n",
      "0 | 7 | 10000001\n",
      "[]\n",
      "[20, 25, 30]\n",
      "\n",
      "20\n",
      "0 | B | 0\n",
      "0 | 10 | 10000001\n",
      "[10]\n",
      "[40]\n",
      "\n",
      "25\n",
      "0 | C | 0\n",
      "0 | 3 | 10000001\n",
      "[10]\n",
      "[40]\n",
      "\n",
      "30\n",
      "0 | D | 0\n",
      "0 | 5 | 10000001\n",
      "[10]\n",
      "[40]\n",
      "\n",
      "40\n",
      "0 | E | 0\n",
      "0 | 5 | 10000001\n",
      "[20, 25, 30]\n",
      "[]\n",
      "\n"
     ]
    }
   ],
   "source": [
    "# add successor\n",
    "for id,data in network.items():\n",
    "    for pred in data.pred:\n",
    "        network[pred].suc.append(id)\n",
    "\n",
    "printNetwork(network)"
   ]
  },
  {
   "cell_type": "code",
   "execution_count": 54,
   "metadata": {},
   "outputs": [],
   "source": [
    "TAIL = -1\n",
    "HEAD = -2\n",
    "def addHeadTail(network):\n",
    "    network[HEAD] = Node(HEAD,'?',0,[])\n",
    "    network[TAIL] = Node(TAIL,'?',0,[])\n",
    "\n",
    "    for id,data in network.items():\n",
    "        if id==HEAD or id==TAIL: continue\n",
    "        if not data.pred:\n",
    "            network[id].pred.append(TAIL)\n",
    "            network[TAIL].suc.append(id)\n",
    "\n",
    "        if not data.suc:\n",
    "            network[id].suc.append(HEAD)\n",
    "            network[HEAD].pred.append(id)\n"
   ]
  },
  {
   "cell_type": "code",
   "execution_count": 55,
   "metadata": {},
   "outputs": [],
   "source": [
    "def forward_pass(network):\n",
    "    pred = dict()\n",
    "    for id,data in network.items():\n",
    "        pred[id] = len(data.pred)\n",
    "    \n",
    "    print(pred)\n",
    "    queue = [TAIL]\n",
    "    while queue:\n",
    "        val = queue.pop()\n",
    "        print(val,network[val].suc)\n",
    "        \n",
    "        for suc in network[val].suc:\n",
    "            network[suc].es = max(network[suc].es,network[val].ef)\n",
    "            network[suc].ef = network[suc].es + network[suc].duration\n",
    "            print(\"8888\",suc,network[suc].ef)\n",
    "            pred[suc] -=1\n",
    "            if pred[suc]==0:\n",
    "                queue.append(suc)\n",
    "    "
   ]
  },
  {
   "cell_type": "code",
   "execution_count": 58,
   "metadata": {},
   "outputs": [
    {
     "name": "stdout",
     "output_type": "stream",
     "text": [
      "{10: 1, 20: 1, 25: 1, 30: 1, 40: 3, -2: 0, -1: 0}\n",
      "-1 []\n",
      "10\n",
      "0 | A | 7\n",
      "0 | 7 | 10000001\n",
      "[-1]\n",
      "[20, 25, 30]\n",
      "\n",
      "20\n",
      "7 | B | 17\n",
      "0 | 10 | 10000001\n",
      "[10]\n",
      "[40]\n",
      "\n",
      "25\n",
      "7 | C | 10\n",
      "0 | 3 | 10000001\n",
      "[10]\n",
      "[40]\n",
      "\n",
      "30\n",
      "7 | D | 12\n",
      "0 | 5 | 10000001\n",
      "[10]\n",
      "[40]\n",
      "\n",
      "40\n",
      "17 | E | 22\n",
      "0 | 5 | 10000001\n",
      "[20, 25, 30]\n",
      "[-2]\n",
      "\n",
      "-2\n",
      "0 | ? | 0\n",
      "0 | 0 | 10000001\n",
      "[]\n",
      "[]\n",
      "\n",
      "-1\n",
      "0 | ? | 0\n",
      "0 | 0 | 10000001\n",
      "[]\n",
      "[]\n",
      "\n"
     ]
    }
   ],
   "source": [
    "# Assembler\n",
    "\n",
    "addHeadTail(network)\n",
    "\n",
    "# forward pass\n",
    "forward_pass(network)\n",
    "\n",
    "printNetwork(network)"
   ]
  },
  {
   "cell_type": "code",
   "execution_count": 59,
   "metadata": {},
   "outputs": [
    {
     "name": "stdout",
     "output_type": "stream",
     "text": [
      "0 | ? | 0\n",
      "0 | 0 | 10000001\n",
      "[]\n",
      "[]\n",
      "\n"
     ]
    }
   ],
   "source": [
    "print(network[-1])"
   ]
  },
  {
   "cell_type": "code",
   "execution_count": null,
   "metadata": {},
   "outputs": [],
   "source": []
  }
 ],
 "metadata": {
  "kernelspec": {
   "display_name": "Python 3.9.12 ('base')",
   "language": "python",
   "name": "python3"
  },
  "language_info": {
   "codemirror_mode": {
    "name": "ipython",
    "version": 3
   },
   "file_extension": ".py",
   "mimetype": "text/x-python",
   "name": "python",
   "nbconvert_exporter": "python",
   "pygments_lexer": "ipython3",
   "version": "3.9.12"
  },
  "orig_nbformat": 4,
  "vscode": {
   "interpreter": {
    "hash": "a22799ee5e5f0ceca5814875a3f5a99da28e4989824bab10b2685b91b7f80494"
   }
  }
 },
 "nbformat": 4,
 "nbformat_minor": 2
}
