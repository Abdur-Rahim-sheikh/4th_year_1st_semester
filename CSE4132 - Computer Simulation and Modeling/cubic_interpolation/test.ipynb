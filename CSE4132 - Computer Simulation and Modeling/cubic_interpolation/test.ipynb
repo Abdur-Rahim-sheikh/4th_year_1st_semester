{
 "cells": [
  {
   "cell_type": "code",
   "execution_count": 1,
   "metadata": {},
   "outputs": [
    {
     "name": "stdout",
     "output_type": "stream",
     "text": [
      "pygame 2.1.2 (SDL 2.0.16, Python 3.9.12)\n",
      "Hello from the pygame community. https://www.pygame.org/contribute.html\n"
     ]
    }
   ],
   "source": [
    "import pygame\n",
    "import time"
   ]
  },
  {
   "cell_type": "code",
   "execution_count": 2,
   "metadata": {},
   "outputs": [
    {
     "ename": "",
     "evalue": "",
     "output_type": "error",
     "traceback": [
      "\u001b[1;31mThe Kernel crashed while executing code in the the current cell or a previous cell. Please review the code in the cell(s) to identify a possible cause of the failure. Click <a href='https://aka.ms/vscodeJupyterKernelCrash'>here</a> for more info. View Jupyter <a href='command:jupyter.viewOutput'>log</a> for further details."
     ]
    },
    {
     "ename": "",
     "evalue": "",
     "output_type": "error",
     "traceback": [
      "\u001b[1;31mCanceled future for execute_request message before replies were done"
     ]
    }
   ],
   "source": [
    "pygame.init()\n",
    "pygame.display.set_caption(\"curve\")\n",
    "\n",
    "screenSize = (1000,600)\n",
    "screen = pygame.display.set_mode(screenSize)\n",
    "\n",
    "x, y = 400.0, 400.0\n",
    "height, width = 90, 90\n",
    "Speed = 0.004\n",
    "f = pygame.font.get_fonts()[0]\n",
    "font = pygame.font.SysFont(f, 32)\n",
    "position_text1 = font.render(\"P0\", True, (255,255,255), (0,0,0))\n",
    "position_text2 = font.render(\"P1\", True, (255,255,255), (0,0,0))\n",
    "position_text3 = font.render(\"P2\", True, (255,255,255), (0,0,0))\n",
    "position_text4 = font.render(\"P3\", True, (255,255,255), (0,0,0))\n",
    "\n",
    "textRect1 = position_text1.get_rect()\n",
    "textRect2 = position_text2.get_rect()\n",
    "textRect3 = position_text3.get_rect()\n",
    "textRect4 = position_text4.get_rect()\n",
    "\n",
    "path_position = [(100.0, 500.0),(200.0, 100.0),(600.0, 80.0),(650.0, 410.0)]\n",
    "\n",
    "t = 0\n",
    "running = True\n",
    "\n",
    "while running:\n",
    "    screen.fill((0,0,0))\n",
    "    pygame.time.delay(50)\n",
    "    \n",
    "    P0 = path_position[0]\n",
    "    P1 = path_position[1]\n",
    "    P2 = path_position[2]\n",
    "    P3 = path_position[3]\n",
    "    \n",
    "    for event in pygame.event.get():\n",
    "        if event.type == pygame.QUIT:\n",
    "            running = False\n",
    "            \n",
    "            \n",
    "            while t<1:\n",
    "                t +=Speed\n",
    "                \n",
    "                P0_x = pow((1-t),3) * P0[0]\n",
    "                P0_y = pow((1-t),3) * P0[1]\n",
    "                \n",
    "                P1_x = 3 * pow((1-t),2) * t * P1[0]\n",
    "                P1_y = 3 * pow((1-t),2) * t * P1[1]\n",
    "                \n",
    "                P2_x = 3 * (1-t) * pow(t,2) * P2[0]\n",
    "                P2_y = 3 * (1-t) * pow(t,2) * P2[1]\n",
    "                \n",
    "                P3_x = pow(t,3) * P3[0]\n",
    "                P3_y = pow(t,3) * P3[1]\n",
    "                \n",
    "                \n",
    "                formular = ((P0_x + P1_x + P2_x + P3_x),(P0_y + P1_y + P2_y + P3_y))\n",
    "                \n",
    "                x, y = formular\n",
    "                \n",
    "                ### Display test\n",
    "                \n",
    "                textRect1.center = P0\n",
    "                textRect2.center = P1\n",
    "                textRect3.center = P2\n",
    "                textRect4.center = P3\n",
    "                \n",
    "                screen.blit(position_text1,textRect1)\n",
    "                screen.blit(position_text2,textRect2)\n",
    "                screen.blit(position_text3,textRect3)\n",
    "                screen.blit(position_text4,textRect4)\n",
    "                ### Display the lines\n",
    "                \n",
    "                pygame.draw.line(screen, (0,255,0), P0, P1, 1)\n",
    "                pygame.draw.line(screen, (0,0,255), P2, P3, 1)\n",
    "                \n",
    "                \n",
    "                pygame.draw.circle(screen, (255,255,255), (round(x),round(y)), 1)\n",
    "                \n",
    "                \n",
    "                pygame.display.flip()\n",
    "               \n",
    "\n",
    "pygame.time.delay(1000)\n",
    "pygame.quit()\n",
    "\n",
    "                \n"
   ]
  },
  {
   "cell_type": "code",
   "execution_count": null,
   "metadata": {},
   "outputs": [],
   "source": []
  }
 ],
 "metadata": {
  "kernelspec": {
   "display_name": "Python 3.9.12 ('base')",
   "language": "python",
   "name": "python3"
  },
  "language_info": {
   "codemirror_mode": {
    "name": "ipython",
    "version": 3
   },
   "file_extension": ".py",
   "mimetype": "text/x-python",
   "name": "python",
   "nbconvert_exporter": "python",
   "pygments_lexer": "ipython3",
   "version": "3.9.12"
  },
  "orig_nbformat": 4,
  "vscode": {
   "interpreter": {
    "hash": "a22799ee5e5f0ceca5814875a3f5a99da28e4989824bab10b2685b91b7f80494"
   }
  }
 },
 "nbformat": 4,
 "nbformat_minor": 2
}
