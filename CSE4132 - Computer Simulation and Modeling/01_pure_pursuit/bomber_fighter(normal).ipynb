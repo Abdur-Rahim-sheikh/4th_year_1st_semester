{
 "cells": [
  {
   "cell_type": "code",
   "execution_count": 8,
   "metadata": {},
   "outputs": [
    {
     "name": "stdout",
     "output_type": "stream",
     "text": [
      "pygame 2.1.2 (SDL 2.0.16, Python 3.9.12)\n",
      "Hello from the pygame community. https://www.pygame.org/contribute.html\n"
     ]
    }
   ],
   "source": [
    "import numpy as np\n",
    "import pygame"
   ]
  },
  {
   "cell_type": "code",
   "execution_count": 9,
   "metadata": {},
   "outputs": [
    {
     "data": {
      "text/plain": [
       "[[80, 0],\n",
       " [90, -2],\n",
       " [99, -5],\n",
       " [108, -9],\n",
       " [116, -15],\n",
       " [125, -18],\n",
       " [133, -23],\n",
       " [141, -29],\n",
       " [151, -28],\n",
       " [160, -25],\n",
       " [169, -21],\n",
       " [179, -20],\n",
       " [180, -17]]"
      ]
     },
     "execution_count": 9,
     "metadata": {},
     "output_type": "execute_result"
    }
   ],
   "source": [
    "bomber = []\n",
    "for line in open('./bomber_position.txt'):\n",
    "    point = [int(x) for x in line.split(' ')]\n",
    "    bomber.append(point)\n",
    "\n",
    "bomber"
   ]
  },
  {
   "cell_type": "code",
   "execution_count": 10,
   "metadata": {},
   "outputs": [],
   "source": [
    "fighter = [0,0]\n",
    "vf = 20"
   ]
  },
  {
   "cell_type": "code",
   "execution_count": 12,
   "metadata": {},
   "outputs": [
    {
     "name": "stdout",
     "output_type": "stream",
     "text": [
      "Escaped\n"
     ]
    }
   ],
   "source": [
    "for point in bomber:\n",
    "    dist = np.sqrt((point[0]-fighter[0])**2 + (point[1]-fighter[1])**2)\n",
    "\n",
    "    if dist<2:\n",
    "        print(\"caught\")\n",
    "        break\n",
    "    fighter[0] = fighter[0] + vf * (point[0]-fighter[0])/dist\n",
    "    fighter[1] = fighter[1] + vf * (point[1]-fighter[1])/dist\n",
    "\n",
    "print(\"Escaped\")"
   ]
  },
  {
   "cell_type": "code",
   "execution_count": null,
   "metadata": {},
   "outputs": [],
   "source": []
  }
 ],
 "metadata": {
  "kernelspec": {
   "display_name": "Python 3.9.12 ('base')",
   "language": "python",
   "name": "python3"
  },
  "language_info": {
   "codemirror_mode": {
    "name": "ipython",
    "version": 3
   },
   "file_extension": ".py",
   "mimetype": "text/x-python",
   "name": "python",
   "nbconvert_exporter": "python",
   "pygments_lexer": "ipython3",
   "version": "3.9.12"
  },
  "orig_nbformat": 4,
  "vscode": {
   "interpreter": {
    "hash": "a22799ee5e5f0ceca5814875a3f5a99da28e4989824bab10b2685b91b7f80494"
   }
  }
 },
 "nbformat": 4,
 "nbformat_minor": 2
}
