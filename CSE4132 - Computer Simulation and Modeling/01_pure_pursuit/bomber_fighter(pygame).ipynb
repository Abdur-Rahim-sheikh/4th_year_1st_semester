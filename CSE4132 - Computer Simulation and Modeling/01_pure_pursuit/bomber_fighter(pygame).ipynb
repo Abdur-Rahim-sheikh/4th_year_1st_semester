{
 "cells": [
  {
   "cell_type": "code",
   "execution_count": 7,
   "metadata": {},
   "outputs": [
    {
     "name": "stdout",
     "output_type": "stream",
     "text": [
      "pygame 2.1.2 (SDL 2.0.16, Python 3.9.12)\n",
      "Hello from the pygame community. https://www.pygame.org/contribute.html\n"
     ]
    }
   ],
   "source": [
    "import numpy as np\n",
    "import pygame"
   ]
  },
  {
   "cell_type": "code",
   "execution_count": 8,
   "metadata": {},
   "outputs": [
    {
     "data": {
      "text/plain": [
       "[[80, 0],\n",
       " [90, -2],\n",
       " [99, -5],\n",
       " [108, -9],\n",
       " [116, -15],\n",
       " [125, -18],\n",
       " [133, -23],\n",
       " [141, -29],\n",
       " [151, -28],\n",
       " [160, -25],\n",
       " [169, -21],\n",
       " [179, -20],\n",
       " [180, -17]]"
      ]
     },
     "execution_count": 8,
     "metadata": {},
     "output_type": "execute_result"
    }
   ],
   "source": [
    "bomber = []\n",
    "for line in open('./bomber_position.txt'):\n",
    "    point = [int(x) for x in line.split(' ')]\n",
    "    bomber.append(point)\n",
    "\n",
    "bomber"
   ]
  },
  {
   "cell_type": "code",
   "execution_count": 9,
   "metadata": {},
   "outputs": [],
   "source": [
    "fighter = [0,0]\n",
    "vf = 20"
   ]
  },
  {
   "cell_type": "code",
   "execution_count": 10,
   "metadata": {},
   "outputs": [
    {
     "ename": "",
     "evalue": "",
     "output_type": "error",
     "traceback": [
      "\u001b[1;31mThe Kernel crashed while executing code in the the current cell or a previous cell. Please review the code in the cell(s) to identify a possible cause of the failure. Click <a href='https://aka.ms/vscodeJupyterKernelCrash'>here</a> for more info. View Jupyter <a href='command:jupyter.viewOutput'>log</a> for further details."
     ]
    }
   ],
   "source": [
    "pygame.init()\n",
    "screen_size = (1000,500)\n",
    "screen = pygame.display.set_mode(screen_size)\n",
    "f = pygame.font.get_fonts()[0]\n",
    "font = pygame.font.SysFont(f,32)"
   ]
  },
  {
   "cell_type": "code",
   "execution_count": 6,
   "metadata": {},
   "outputs": [
    {
     "ename": "NameError",
     "evalue": "name 'screen' is not defined",
     "output_type": "error",
     "traceback": [
      "\u001b[0;31m---------------------------------------------------------------------------\u001b[0m",
      "\u001b[0;31mNameError\u001b[0m                                 Traceback (most recent call last)",
      "\u001b[1;32m/home/abir/Desktop/4th year 1st semester/Computer simulation/lab/01_pure_pursuit/bomber_fighter(pygame).ipynb Cell 5\u001b[0m in \u001b[0;36m<cell line: 1>\u001b[0;34m()\u001b[0m\n\u001b[0;32m----> <a href='vscode-notebook-cell:/home/abir/Desktop/4th%20year%201st%20semester/Computer%20simulation/lab/01_pure_pursuit/bomber_fighter%28pygame%29.ipynb#W4sZmlsZQ%3D%3D?line=0'>1</a>\u001b[0m screen\u001b[39m.\u001b[39mfill((\u001b[39m0\u001b[39m,\u001b[39m0\u001b[39m,\u001b[39m0\u001b[39m))\n\u001b[1;32m      <a href='vscode-notebook-cell:/home/abir/Desktop/4th%20year%201st%20semester/Computer%20simulation/lab/01_pure_pursuit/bomber_fighter%28pygame%29.ipynb#W4sZmlsZQ%3D%3D?line=1'>2</a>\u001b[0m pygame\u001b[39m.\u001b[39mtime\u001b[39m.\u001b[39mdelay(\u001b[39m1000\u001b[39m)\n\u001b[1;32m      <a href='vscode-notebook-cell:/home/abir/Desktop/4th%20year%201st%20semester/Computer%20simulation/lab/01_pure_pursuit/bomber_fighter%28pygame%29.ipynb#W4sZmlsZQ%3D%3D?line=3'>4</a>\u001b[0m \u001b[39mfor\u001b[39;00m event \u001b[39min\u001b[39;00m pygame\u001b[39m.\u001b[39mevent\u001b[39m.\u001b[39mget():\n",
      "\u001b[0;31mNameError\u001b[0m: name 'screen' is not defined"
     ]
    }
   ],
   "source": [
    "screen.fill((0,0,0))\n",
    "pygame.time.delay(1000)\n",
    "\n",
    "for event in pygame.event.get():\n",
    "    for point in bomber:\n",
    "        dist = np.sqrt((point[0]-fighter[0])**2 + (point[1]-fighter[1])**2)\n",
    "\n",
    "        if dist<2:\n",
    "            print(\"caught\")\n",
    "            screen.fill((255,0,0))\n",
    "            break\n",
    "\n",
    "        pygame.draw.circle(screen,(0,255,255),tuple(fighter),5)\n",
    "        pygame.display.flip()\n",
    "        fighter[0] = fighter[0] + vf * (point[0]-fighter[0])/dist\n",
    "        fighter[1] = fighter[1] + vf * (point[1]-fighter[1])/dist\n",
    "    \n",
    "    if dist<2:\n",
    "        print(\"caught\")\n",
    "\n",
    "    else:\n",
    "        print(\"Escaped\")\n",
    "        screen.fill((0,255,0))\n",
    "    pygame.display.flip()\n",
    "\n",
    "from sys import exit\n",
    "while True:\n",
    "    for event in pygame.event.get():\n",
    "        if event.type == pygame.QUIT:\n",
    "            pygame.quit()\n",
    "            exit()"
   ]
  },
  {
   "cell_type": "code",
   "execution_count": 4,
   "metadata": {},
   "outputs": [
    {
     "name": "stdout",
     "output_type": "stream",
     "text": [
      "(2, 4)\n"
     ]
    }
   ],
   "source": [
    "a = [2,4]\n",
    "print(tuple(a))"
   ]
  },
  {
   "cell_type": "code",
   "execution_count": null,
   "metadata": {},
   "outputs": [],
   "source": []
  }
 ],
 "metadata": {
  "kernelspec": {
   "display_name": "Python 3.9.12 ('base')",
   "language": "python",
   "name": "python3"
  },
  "language_info": {
   "codemirror_mode": {
    "name": "ipython",
    "version": 3
   },
   "file_extension": ".py",
   "mimetype": "text/x-python",
   "name": "python",
   "nbconvert_exporter": "python",
   "pygments_lexer": "ipython3",
   "version": "3.9.12"
  },
  "orig_nbformat": 4,
  "vscode": {
   "interpreter": {
    "hash": "a22799ee5e5f0ceca5814875a3f5a99da28e4989824bab10b2685b91b7f80494"
   }
  }
 },
 "nbformat": 4,
 "nbformat_minor": 2
}
