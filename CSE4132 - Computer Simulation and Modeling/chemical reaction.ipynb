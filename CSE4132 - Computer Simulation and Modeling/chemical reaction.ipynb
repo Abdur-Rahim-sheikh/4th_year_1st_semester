{
 "cells": [
  {
   "cell_type": "code",
   "execution_count": 1,
   "id": "0341e458",
   "metadata": {},
   "outputs": [],
   "source": [
    "import numpy as np"
   ]
  },
  {
   "cell_type": "code",
   "execution_count": 2,
   "id": "c496623d",
   "metadata": {},
   "outputs": [],
   "source": [
    "# given values\n",
    "\n",
    "a = [100.0]\n",
    "b = [50.0]\n",
    "c = [0.0]\n",
    "dt = 0.1\n",
    "k1 = 0.008\n",
    "k2 = 0.002\n",
    "N = 6"
   ]
  },
  {
   "cell_type": "code",
   "execution_count": 3,
   "id": "49d00d16",
   "metadata": {},
   "outputs": [],
   "source": [
    "for i in np.arange(dt,N,dt):\n",
    "    ai = a[-1] + (k2*c[-1] - k1*a[-1]*b[-1])*dt\n",
    "    bi = b[-1] + (k2*c[-1] - k1*a[-1]*b[-1])*dt\n",
    "    ci = c[-1] + (2*k1*a[-1]*b[-1] - 2*k2*c[-1])*dt\n",
    "    \n",
    "    a.append(ai)\n",
    "    b.append(bi)\n",
    "    c.append(ci)\n",
    "    \n",
    "#     print(f'at time {i:0.2} a={ai:0.2}, b={bi:0.2}, c={ci:0.2}')"
   ]
  },
  {
   "cell_type": "code",
   "execution_count": 4,
   "id": "459354c5",
   "metadata": {},
   "outputs": [
    {
     "name": "stdout",
     "output_type": "stream",
     "text": [
      "at time 0.00 a=100.00, b=50.00, c=0.00\n",
      "at time 0.10 a=96.00, b=46.00, c=8.00\n",
      "at time 0.20 a=92.47, b=42.47, c=15.06\n",
      "at time 0.30 a=89.33, b=39.33, c=21.34\n",
      "at time 0.40 a=86.52, b=36.52, c=26.95\n",
      "at time 0.50 a=84.00, b=34.00, c=32.00\n",
      "at time 0.60 a=81.72, b=31.72, c=36.55\n",
      "at time 0.70 a=79.66, b=29.66, c=40.69\n",
      "at time 0.80 a=77.77, b=27.77, c=44.45\n",
      "at time 0.90 a=76.05, b=26.05, c=47.89\n",
      "at time 1.00 a=74.48, b=24.48, c=51.04\n",
      "at time 1.10 a=73.03, b=23.03, c=53.94\n",
      "at time 1.20 a=71.70, b=21.70, c=56.61\n",
      "at time 1.30 a=70.46, b=20.46, c=59.07\n",
      "at time 1.40 a=69.32, b=19.32, c=61.36\n",
      "at time 1.50 a=68.26, b=18.26, c=63.48\n",
      "at time 1.60 a=67.28, b=17.28, c=65.44\n",
      "at time 1.70 a=66.36, b=16.36, c=67.28\n",
      "at time 1.80 a=65.51, b=15.51, c=68.99\n",
      "at time 1.90 a=64.71, b=14.71, c=70.59\n",
      "at time 2.00 a=63.96, b=13.96, c=72.08\n",
      "at time 2.10 a=63.26, b=13.26, c=73.48\n",
      "at time 2.20 a=62.60, b=12.60, c=74.79\n",
      "at time 2.30 a=61.99, b=11.99, c=76.03\n",
      "at time 2.40 a=61.41, b=11.41, c=77.18\n",
      "at time 2.50 a=60.86, b=10.86, c=78.27\n",
      "at time 2.60 a=60.35, b=10.35, c=79.30\n",
      "at time 2.70 a=59.87, b=9.87, c=80.27\n",
      "at time 2.80 a=59.41, b=9.41, c=81.18\n",
      "at time 2.90 a=58.98, b=8.98, c=82.04\n",
      "at time 3.00 a=58.57, b=8.57, c=82.86\n",
      "at time 3.10 a=58.19, b=8.19, c=83.63\n",
      "at time 3.20 a=57.82, b=7.82, c=84.36\n",
      "at time 3.30 a=57.48, b=7.48, c=85.05\n",
      "at time 3.40 a=57.15, b=7.15, c=85.70\n",
      "at time 3.50 a=56.84, b=6.84, c=86.32\n",
      "at time 3.60 a=56.55, b=6.55, c=86.91\n",
      "at time 3.70 a=56.27, b=6.27, c=87.46\n",
      "at time 3.80 a=56.00, b=6.00, c=87.99\n",
      "at time 3.90 a=55.75, b=5.75, c=88.50\n",
      "at time 4.00 a=55.51, b=5.51, c=88.97\n",
      "at time 4.10 a=55.29, b=5.29, c=89.43\n",
      "at time 4.20 a=55.07, b=5.07, c=89.86\n",
      "at time 4.30 a=54.86, b=4.86, c=90.27\n",
      "at time 4.40 a=54.67, b=4.67, c=90.66\n",
      "at time 4.50 a=54.48, b=4.48, c=91.03\n",
      "at time 4.60 a=54.31, b=4.31, c=91.39\n",
      "at time 4.70 a=54.14, b=4.14, c=91.73\n",
      "at time 4.80 a=53.98, b=3.98, c=92.05\n",
      "at time 4.90 a=53.82, b=3.82, c=92.35\n",
      "at time 5.00 a=53.68, b=3.68, c=92.65\n",
      "at time 5.10 a=53.54, b=3.54, c=92.93\n",
      "at time 5.20 a=53.40, b=3.40, c=93.19\n",
      "at time 5.30 a=53.28, b=3.28, c=93.44\n",
      "at time 5.40 a=53.16, b=3.16, c=93.69\n",
      "at time 5.50 a=53.04, b=3.04, c=93.92\n",
      "at time 5.60 a=52.93, b=2.93, c=94.14\n",
      "at time 5.70 a=52.83, b=2.83, c=94.35\n",
      "at time 5.80 a=52.73, b=2.73, c=94.55\n",
      "at time 5.90 a=52.63, b=2.63, c=94.74\n"
     ]
    }
   ],
   "source": [
    "for i,(ai,bi,ci) in enumerate(zip(a,b,c)):\n",
    "    print(f'at time {float(i*dt):0.2f} a={ai:.2f}, b={bi:.2f}, c={ci:.2f}')"
   ]
  },
  {
   "cell_type": "code",
   "execution_count": null,
   "id": "c0ba7bc5",
   "metadata": {},
   "outputs": [],
   "source": []
  }
 ],
 "metadata": {
  "kernelspec": {
   "display_name": "Python 3.9.12 ('base')",
   "language": "python",
   "name": "python3"
  },
  "language_info": {
   "codemirror_mode": {
    "name": "ipython",
    "version": 3
   },
   "file_extension": ".py",
   "mimetype": "text/x-python",
   "name": "python",
   "nbconvert_exporter": "python",
   "pygments_lexer": "ipython3",
   "version": "3.9.12"
  },
  "vscode": {
   "interpreter": {
    "hash": "a22799ee5e5f0ceca5814875a3f5a99da28e4989824bab10b2685b91b7f80494"
   }
  }
 },
 "nbformat": 4,
 "nbformat_minor": 5
}
